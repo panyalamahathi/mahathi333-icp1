{
 "cells": [
  {
   "cell_type": "code",
   "execution_count": 24,
   "id": "d546fe3f",
   "metadata": {},
   "outputs": [
    {
     "name": "stdout",
     "output_type": "stream",
     "text": [
      "enter data : kinny\n",
      "ik\n"
     ]
    }
   ],
   "source": [
    "import random\n",
    "data = input(\"enter data : \")\n",
    "\n",
    "split =  random.randrange(2, len(data)-2)\n",
    "\n",
    "data = data.replace(data[split:],\"\")\n",
    "data = data[::-1]\n",
    "print(data)oo\n",
    "      \n",
    "      "
   ]
  },
  {
   "cell_type": "code",
   "execution_count": 25,
   "id": "6f4aa877",
   "metadata": {},
   "outputs": [
    {
     "name": "stdout",
     "output_type": "stream",
     "text": [
      "enter number 1 :2\n",
      "enter number 2 :4\n",
      "addition :  6\n",
      "substraction :  -2\n",
      "divison :  0.5\n",
      "multiplication :  8\n"
     ]
    }
   ],
   "source": [
    "num1 = int(input(\"enter number 1 :\"))\n",
    "num2 = int(input(\"enter number 2 :\"))\n",
    "\n",
    "print(\"addition : \",(num1+num2))\n",
    "print(\"substraction : \",(num1-num2))\n",
    "print(\"divison : \",(num1/num2))\n",
    "print(\"multiplication : \",(num1*num2))"
   ]
  },
  {
   "cell_type": "code",
   "execution_count": 26,
   "id": "2205aab2",
   "metadata": {},
   "outputs": [
    {
     "name": "stdout",
     "output_type": "stream",
     "text": [
      "enter string :i love python\n",
      "i love pythons\n"
     ]
    }
   ],
   "source": [
    "inputValue = input(\"enter string :\")\n",
    "\n",
    "inputValue = inputValue.replace(\"python\",\"pythons\")\n",
    "\n",
    "print(inputValue)"
   ]
  },
  {
   "cell_type": "code",
   "execution_count": 27,
   "id": "6d24f6dd",
   "metadata": {},
   "outputs": [
    {
     "name": "stdout",
     "output_type": "stream",
     "text": [
      "Enter Students score : 80\n",
      "Grade = B\n"
     ]
    }
   ],
   "source": [
    "marks = int(input(\"Enter Students score : \"))\n",
    "\n",
    "if(marks<=100 and marks>=90):\n",
    "    print(\"Grade = A\")\n",
    "elif(marks<=89 and marks>=80):\n",
    "     print(\"Grade = B\")\n",
    "elif(marks<=79 and marks>=70):\n",
    "     print(\"Grade = C\") \n",
    "elif(marks<=69 and marks>=60):\n",
    "     print(\"Grade = D\")\n",
    "elif(marks<=59 and marks>=0):\n",
    "     print(\"Grade = F\")"
   ]
  },
  {
   "cell_type": "code",
   "execution_count": null,
   "id": "abb36c47",
   "metadata": {},
   "outputs": [],
   "source": []
  }
 ],
 "metadata": {
  "kernelspec": {
   "display_name": "Python 3 (ipykernel)",
   "language": "python",
   "name": "python3"
  },
  "language_info": {
   "codemirror_mode": {
    "name": "ipython",
    "version": 3
   },
   "file_extension": ".py",
   "mimetype": "text/x-python",
   "name": "python",
   "nbconvert_exporter": "python",
   "pygments_lexer": "ipython3",
   "version": "3.10.6"
  }
 },
 "nbformat": 4,
 "nbformat_minor": 5
}
